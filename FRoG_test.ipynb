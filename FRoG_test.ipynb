{
 "cells": [
  {
   "cell_type": "code",
   "execution_count": 3,
   "id": "1aba65cd",
   "metadata": {},
   "outputs": [
    {
     "name": "stdout",
     "output_type": "stream",
     "text": [
      "Running client version 1.7.4\n"
     ]
    }
   ],
   "source": [
    "import os\n",
    "import fiddler as fdl\n",
    "from datetime import datetime, timedelta\n",
    "from reportgen import generate_report, OutputTypes\n",
    "from reportgen.analysis_modules import ProjectSummary, PerformanceAnalysisSpec\n",
    "print(f\"Running client version {fdl.__version__}\")"
   ]
  },
  {
   "cell_type": "code",
   "execution_count": 4,
   "id": "7d6cdc49",
   "metadata": {},
   "outputs": [],
   "source": [
    "api = fdl.FiddlerApi(url='http://demo.fiddler.ai',\n",
    "                     org_id='demo',\n",
    "                     auth_token=os.getenv('fiddler_api_key')\n",
    "                     )"
   ]
  },
  {
   "cell_type": "code",
   "execution_count": 5,
   "id": "d9949893",
   "metadata": {},
   "outputs": [],
   "source": [
    "generate_report(fiddler_api=api,\n",
    "                analysis_modules=[ProjectSummary(project_id=\"bank_churn\",\n",
    "                                                 start_time_delta='30D',\n",
    "                                                 )\n",
    "                                  ],\n",
    "                output_type=OutputTypes.DOCX,\n",
    "                output_path='example.docx',\n",
    "                author='Your Name',\n",
    "                )"
   ]
  }
 ],
 "metadata": {
  "kernelspec": {
   "display_name": "test-repgen",
   "language": "python",
   "name": "test-repgen"
  },
  "language_info": {
   "codemirror_mode": {
    "name": "ipython",
    "version": 3
   },
   "file_extension": ".py",
   "mimetype": "text/x-python",
   "name": "python",
   "nbconvert_exporter": "python",
   "pygments_lexer": "ipython3",
   "version": "3.7.16"
  }
 },
 "nbformat": 4,
 "nbformat_minor": 5
}
